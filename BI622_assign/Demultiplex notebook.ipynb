{
 "cells": [
  {
   "cell_type": "markdown",
   "metadata": {},
   "source": [
    "| File  |  Identifier |  \n",
    "|---|---|---|---|---|\n",
    "| 1294_S1_L008_R1_001.fastq.gz   | Read 1  |\n",
    "| 1294_S1_L008_R2_001.fastq.gz   | Index 1  |\n",
    "| 1294_S1_L008_R3_001.fastq.gz   | Index 2  |\n",
    "| 1294_S1_L008_R4_001.fastq.gz   | Read 2 |"
   ]
  },
  {
   "cell_type": "markdown",
   "metadata": {},
   "source": [
    "# Part 1 question 1\n",
    "\n",
    "To look at each file and determine if index or paired end read\n",
    "\n",
    "zcat 1294_S1_L008_R1_001.fastq.gz | head -40 \n",
    "\n",
    "zcat 1294_S1_L008_R2_001.fastq.gz | head -40\n",
    "\n",
    "zcat 1294_S1_L008_R3_001.fastq.gz | head -40\n",
    "\n",
    "zcat 1294_S1_L008_R4_001.fastq.gz | head -40\n",
    "\n",
    "Files 1 and 4 are the sequences as they have significantly longer reads while files 2 and 3 have short reads are the indexs\n",
    "file 1 goes with file 2\n",
    "file 3 goes with file 4\n"
   ]
  },
  {
   "cell_type": "markdown",
   "metadata": {},
   "source": [
    "# Part 1 question 2B\n",
    "\n",
    "A good quality score cutoff based on my graph is 35 as most bases  fall above this value, and it translates to greater than 99.9% accuracy for reads.\n",
    "\n"
   ]
  },
  {
   "cell_type": "code",
   "execution_count": null,
   "metadata": {},
   "outputs": [],
   "source": [
    "#Part 1 question 2c\n",
    "\n",
    "zcat 1294_S1_L008_R2_001.fastq.gz | sed -n '2~4p' | grep -c \"N\"\n",
    "3976613\n",
    "zcat 1294_S1_L008_R3_001.fastq.gz | sed -n '2~4p' | grep -c \"N\"\n",
    "3328051\n",
    "\n",
    "#totoal indexs containing N = 7304664\n",
    "\n",
    "\n"
   ]
  },
  {
   "cell_type": "markdown",
   "metadata": {},
   "source": [
    "# Define the Problem\n",
    "\n",
    "Index hopping is when the index of the forward strand does not match the index of the reverse complementary strand. You therefore cannot determine which read goes with the index and have to throw both out. \n",
    "\n",
    "Our goal is to determine the number of times index hopping occurs, and if it does not occur write to a new file with the index as the filename and the sequences that match that index in fastq format. We will also keep track of the number of times and index was correct and the number of times index hopping has occured. \n",
    "\n",
    "- Compare lines of files 2 and 3 if lines are equal no index hopping has occured, if the lines are not aequl then index hopping has occured\n",
    "- If index hopping has not occured write a file that matches the corresponding index as the filename and the 4 lines in fastq format equal to line number of the filename "
   ]
  },
  {
   "cell_type": "code",
   "execution_count": null,
   "metadata": {},
   "outputs": [],
   "source": [
    "#create function reverse_compliment(): which takes reads from index 1 and returns reverse complement to compare to index 2\n",
    "\n",
    "# lobal variable to count index hopping\n",
    "# creat dictionary to count correct index reads with index as key and # of correct reads as variable \n",
    "\n",
    "#open file 1\n",
    "    #open file 2\n",
    "        #open file 3\n",
    "            # open file 4\n",
    "                # using readline file 1 line 1 save as header1\n",
    "                # using readline file 1 line 2 save as sequence 1\n",
    "                # using readline file 1 line 3 save as plus 1\n",
    "                # using readline file 1 line 4 save as quality score 1\n",
    "                # using readline file 2 line 1 save as header2\n",
    "                # using readline file 2 line 2 save as sequence2\n",
    "                # using readline file 2 line 3 save as plus2\n",
    "                # using readline file 2 line 4 save as quality score2\n",
    "                # using readline file 3 line 1 save as header3\n",
    "                # using readline file 3 line 2 save as sequence3\n",
    "                # using readline file 3 line 3 save as plus3\n",
    "                # using readline file 3 line 4 save as quality score3\n",
    "                # using readline file 4 line 1 save as header4\n",
    "                # using readline file 4 line 2 save as sequence4\n",
    "                # using readline file 4 line 3 save as plus4\n",
    "                # using readline file 4 line 4 save as quality score4\n",
    "                # call reverse_complement()\n",
    "                # if sequence 2 reverse complements sequence 3 no index hooping\n",
    "                    # with open file in append with filename as sequence 2 forward read\n",
    "                        # write to file with file 1 variables in fastq format\n",
    "                    # append sequence 2 to index dictionary if not in else increment +1 \n",
    "                    # with open file in append with filename as sequence 3 reverse read\n",
    "                        # write to file with file 4 variables in fastq format\n",
    "                # else sequence 2 =! sequence 3 index hopping has occured\n",
    "                    # increment index hopping +1\n",
    "                    # with open file in append with filename as bad forward read\n",
    "                        #write to file with file 2 variables in fastq format\n",
    "                    # with open file in append with filename as bad reverse read\n",
    "                        #write to file with file 3 variables in fastq format\n",
    "\n",
    "# print index hopping number\n",
    "# print dictionary in tab seperated format with index and number of correct reads \n",
    "\n",
    "                        \n",
    "                    \n"
   ]
  },
  {
   "cell_type": "code",
   "execution_count": null,
   "metadata": {},
   "outputs": [],
   "source": [
    "def reverse_complement():\n",
    "    \"\"\"Takes the index sequence from forward read and makes a reverse complement \n",
    "    so it can be compared to inxed from reverse read\"\"\"\n",
    "    \n",
    "    \n",
    "    return(rev_comp_seq)\n",
    "\n",
    "\n",
    "# e.g. sequence AAAGGG is input\n",
    "# and will return CCCTTT"
   ]
  }
 ],
 "metadata": {
  "kernelspec": {
   "display_name": "Python 3",
   "language": "python",
   "name": "python3"
  },
  "language_info": {
   "codemirror_mode": {
    "name": "ipython",
    "version": 3
   },
   "file_extension": ".py",
   "mimetype": "text/x-python",
   "name": "python",
   "nbconvert_exporter": "python",
   "pygments_lexer": "ipython3",
   "version": "3.6.5"
  }
 },
 "nbformat": 4,
 "nbformat_minor": 2
}
